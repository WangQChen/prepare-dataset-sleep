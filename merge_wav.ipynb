{
 "cells": [
  {
   "cell_type": "code",
   "execution_count": 1,
   "id": "c169b318",
   "metadata": {},
   "outputs": [],
   "source": [
    "import os\n",
    "import glob\n",
    "import shutil\n",
    "import librosa\n",
    "import soundfile as sf\n",
    "from tqdm import tqdm\n",
    "import numpy as np"
   ]
  },
  {
   "cell_type": "code",
   "execution_count": 2,
   "id": "afce4da3",
   "metadata": {},
   "outputs": [],
   "source": [
    "# 根目录\n",
    "root_dir = 'data/wav'"
   ]
  },
  {
   "cell_type": "code",
   "execution_count": 3,
   "id": "7d12338f",
   "metadata": {},
   "outputs": [
    {
     "name": "stderr",
     "output_type": "stream",
     "text": [
      "  0%|          | 0/10 [00:00<?, ?it/s]"
     ]
    },
    {
     "name": "stdout",
     "output_type": "stream",
     "text": [
      "下面是切片wav文件\n",
      "['data/wav\\\\00000995-100507\\\\00000995-100507[001].wav', 'data/wav\\\\00000995-100507\\\\00000995-100507[002].wav', 'data/wav\\\\00000995-100507\\\\00000995-100507[003].wav', 'data/wav\\\\00000995-100507\\\\00000995-100507[004].wav', 'data/wav\\\\00000995-100507\\\\00000995-100507[005].wav']\n"
     ]
    },
    {
     "name": "stderr",
     "output_type": "stream",
     "text": [
      " 10%|█         | 1/10 [00:16<02:32, 16.99s/it]"
     ]
    },
    {
     "name": "stdout",
     "output_type": "stream",
     "text": [
      "已保存到\n",
      "data/wav\\00000995-100507.wav\n",
      "下面是切片wav文件\n",
      "['data/wav\\\\00000999-100507\\\\00000999-100507[001].wav', 'data/wav\\\\00000999-100507\\\\00000999-100507[002].wav', 'data/wav\\\\00000999-100507\\\\00000999-100507[003].wav', 'data/wav\\\\00000999-100507\\\\00000999-100507[004].wav', 'data/wav\\\\00000999-100507\\\\00000999-100507[005].wav']\n"
     ]
    },
    {
     "name": "stderr",
     "output_type": "stream",
     "text": [
      " 20%|██        | 2/10 [00:30<01:59, 14.99s/it]"
     ]
    },
    {
     "name": "stdout",
     "output_type": "stream",
     "text": [
      "已保存到\n",
      "data/wav\\00000999-100507.wav\n",
      "下面是切片wav文件\n",
      "['data/wav\\\\00001000-100507\\\\00001000-100507[001].wav', 'data/wav\\\\00001000-100507\\\\00001000-100507[002].wav', 'data/wav\\\\00001000-100507\\\\00001000-100507[003].wav', 'data/wav\\\\00001000-100507\\\\00001000-100507[004].wav', 'data/wav\\\\00001000-100507\\\\00001000-100507[005].wav']\n"
     ]
    },
    {
     "name": "stderr",
     "output_type": "stream",
     "text": [
      " 30%|███       | 3/10 [00:41<01:32, 13.20s/it]"
     ]
    },
    {
     "name": "stdout",
     "output_type": "stream",
     "text": [
      "已保存到\n",
      "data/wav\\00001000-100507.wav\n",
      "下面是切片wav文件\n",
      "['data/wav\\\\00001006-100507\\\\00001006-100507[001].wav', 'data/wav\\\\00001006-100507\\\\00001006-100507[002].wav', 'data/wav\\\\00001006-100507\\\\00001006-100507[003].wav', 'data/wav\\\\00001006-100507\\\\00001006-100507[004].wav']\n"
     ]
    },
    {
     "name": "stderr",
     "output_type": "stream",
     "text": [
      " 40%|████      | 4/10 [00:51<01:11, 11.97s/it]"
     ]
    },
    {
     "name": "stdout",
     "output_type": "stream",
     "text": [
      "已保存到\n",
      "data/wav\\00001006-100507.wav\n",
      "下面是切片wav文件\n",
      "['data/wav\\\\00001008-100507\\\\00001008-100507[001].wav', 'data/wav\\\\00001008-100507\\\\00001008-100507[002].wav', 'data/wav\\\\00001008-100507\\\\00001008-100507[003].wav', 'data/wav\\\\00001008-100507\\\\00001008-100507[004].wav', 'data/wav\\\\00001008-100507\\\\00001008-100507[005].wav']\n"
     ]
    },
    {
     "name": "stderr",
     "output_type": "stream",
     "text": [
      " 50%|█████     | 5/10 [01:02<00:58, 11.63s/it]"
     ]
    },
    {
     "name": "stdout",
     "output_type": "stream",
     "text": [
      "已保存到\n",
      "data/wav\\00001008-100507.wav\n",
      "下面是切片wav文件\n",
      "['data/wav\\\\00001010-100507\\\\00001010-100507[001].wav', 'data/wav\\\\00001010-100507\\\\00001010-100507[002].wav', 'data/wav\\\\00001010-100507\\\\00001010-100507[003].wav', 'data/wav\\\\00001010-100507\\\\00001010-100507[004].wav']\n"
     ]
    },
    {
     "name": "stderr",
     "output_type": "stream",
     "text": [
      " 60%|██████    | 6/10 [01:11<00:43, 10.77s/it]"
     ]
    },
    {
     "name": "stdout",
     "output_type": "stream",
     "text": [
      "已保存到\n",
      "data/wav\\00001010-100507.wav\n",
      "下面是切片wav文件\n",
      "['data/wav\\\\00001014-100507\\\\00001014-100507[001].wav', 'data/wav\\\\00001014-100507\\\\00001014-100507[002].wav', 'data/wav\\\\00001014-100507\\\\00001014-100507[003].wav', 'data/wav\\\\00001014-100507\\\\00001014-100507[004].wav']\n"
     ]
    },
    {
     "name": "stderr",
     "output_type": "stream",
     "text": [
      " 70%|███████   | 7/10 [01:22<00:31, 10.57s/it]"
     ]
    },
    {
     "name": "stdout",
     "output_type": "stream",
     "text": [
      "已保存到\n",
      "data/wav\\00001014-100507.wav\n",
      "下面是切片wav文件\n",
      "['data/wav\\\\00001016-100507\\\\00001016-100507[001].wav', 'data/wav\\\\00001016-100507\\\\00001016-100507[002].wav', 'data/wav\\\\00001016-100507\\\\00001016-100507[003].wav', 'data/wav\\\\00001016-100507\\\\00001016-100507[004].wav', 'data/wav\\\\00001016-100507\\\\00001016-100507[005].wav', 'data/wav\\\\00001016-100507\\\\00001016-100507[006].wav', 'data/wav\\\\00001016-100507\\\\00001016-100507[007].wav']\n"
     ]
    },
    {
     "name": "stderr",
     "output_type": "stream",
     "text": [
      " 80%|████████  | 8/10 [01:38<00:24, 12.31s/it]"
     ]
    },
    {
     "name": "stdout",
     "output_type": "stream",
     "text": [
      "已保存到\n",
      "data/wav\\00001016-100507.wav\n",
      "下面是切片wav文件\n",
      "['data/wav\\\\00001018-100507\\\\00001018-100507[001].wav', 'data/wav\\\\00001018-100507\\\\00001018-100507[002].wav', 'data/wav\\\\00001018-100507\\\\00001018-100507[003].wav', 'data/wav\\\\00001018-100507\\\\00001018-100507[004].wav', 'data/wav\\\\00001018-100507\\\\00001018-100507[005].wav']\n"
     ]
    },
    {
     "name": "stderr",
     "output_type": "stream",
     "text": [
      " 90%|█████████ | 9/10 [01:50<00:12, 12.47s/it]"
     ]
    },
    {
     "name": "stdout",
     "output_type": "stream",
     "text": [
      "已保存到\n",
      "data/wav\\00001018-100507.wav\n",
      "下面是切片wav文件\n",
      "['data/wav\\\\00001020-100507\\\\00001020-100507[001].wav', 'data/wav\\\\00001020-100507\\\\00001020-100507[002].wav', 'data/wav\\\\00001020-100507\\\\00001020-100507[003].wav', 'data/wav\\\\00001020-100507\\\\00001020-100507[004].wav', 'data/wav\\\\00001020-100507\\\\00001020-100507[005].wav']\n"
     ]
    },
    {
     "name": "stderr",
     "output_type": "stream",
     "text": [
      "100%|██████████| 10/10 [02:03<00:00, 12.54s/it]"
     ]
    },
    {
     "name": "stdout",
     "output_type": "stream",
     "text": [
      "已保存到\n",
      "data/wav\\00001020-100507.wav\n"
     ]
    },
    {
     "name": "stderr",
     "output_type": "stream",
     "text": [
      "100%|██████████| 10/10 [02:03<00:00, 12.36s/it]\n"
     ]
    }
   ],
   "source": [
    "# 遍历每个 subject_id 目录\n",
    "for subject_dir in tqdm(sorted(os.listdir(root_dir))):\n",
    "    full_subject_path = os.path.join(root_dir, subject_dir)\n",
    "    if not os.path.isdir(full_subject_path):\n",
    "        continue\n",
    "\n",
    "    # 获取所有切片 wav 文件\n",
    "    wav_files = sorted(glob.glob(os.path.join(full_subject_path, f'{subject_dir}*.wav')))\n",
    "    if not wav_files:\n",
    "        continue\n",
    "    print('下面是切片wav文件')\n",
    "    print(wav_files)\n",
    "\n",
    "    # 读取并拼接所有音频\n",
    "    audio_concat = []\n",
    "    for wav_path in wav_files:\n",
    "        audio, sr = librosa.load(wav_path, sr=48000)\n",
    "        audio_concat.append(audio)\n",
    "\n",
    "    full_audio = np.concatenate(audio_concat)\n",
    "\n",
    "    # 下采样至 16kHz\n",
    "    audio_resampled = librosa.resample(full_audio, orig_sr=48000, target_sr=16000)\n",
    "\n",
    "    # 保存拼接后的新音频\n",
    "    output_path = os.path.join(root_dir, f'{subject_dir}.wav')\n",
    "    sf.write(output_path, audio_resampled, samplerate=16000)\n",
    "    print('已保存到')\n",
    "    print(output_path)\n",
    "\n",
    "    # 删除原始切片文件\n",
    "    for wav_path in wav_files:\n",
    "        os.remove(wav_path)\n",
    "\n",
    "    # 删除空目录\n",
    "    try:\n",
    "        os.rmdir(full_subject_path)\n",
    "    except OSError:\n",
    "        pass  # 目录不为空时忽略"
   ]
  },
  {
   "cell_type": "code",
   "execution_count": null,
   "id": "abe9c8c4",
   "metadata": {},
   "outputs": [],
   "source": []
  }
 ],
 "metadata": {
  "kernelspec": {
   "display_name": "modelC",
   "language": "python",
   "name": "modelc"
  },
  "language_info": {
   "codemirror_mode": {
    "name": "ipython",
    "version": 3
   },
   "file_extension": ".py",
   "mimetype": "text/x-python",
   "name": "python",
   "nbconvert_exporter": "python",
   "pygments_lexer": "ipython3",
   "version": "3.8.19"
  }
 },
 "nbformat": 4,
 "nbformat_minor": 5
}
