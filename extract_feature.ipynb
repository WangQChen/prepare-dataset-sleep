{
 "cells": [
  {
   "cell_type": "code",
   "execution_count": 1,
   "id": "27fc217d",
   "metadata": {},
   "outputs": [],
   "source": [
    "from extract_feature import process_long_audio_to_epochs"
   ]
  },
  {
   "cell_type": "code",
   "execution_count": 2,
   "id": "063816bc",
   "metadata": {},
   "outputs": [],
   "source": [
    "import os\n",
    "from glob import glob"
   ]
  },
  {
   "cell_type": "code",
   "execution_count": 3,
   "id": "cfb900a1",
   "metadata": {},
   "outputs": [],
   "source": [
    "wav_dir='data/wav'\n",
    "output_dir='data/feature'\n",
    "sr=16000\n",
    "epoch_sec=30"
   ]
  },
  {
   "cell_type": "code",
   "execution_count": 4,
   "id": "5d94af24",
   "metadata": {},
   "outputs": [
    {
     "name": "stdout",
     "output_type": "stream",
     "text": [
      "🔍 正在处理 00000995-100507.wav...\n"
     ]
    },
    {
     "name": "stderr",
     "output_type": "stream",
     "text": [
      "Processing epochs: 100%|██████████| 596/596 [01:37<00:00,  6.08it/s]\n"
     ]
    },
    {
     "name": "stdout",
     "output_type": "stream",
     "text": [
      "✅ 提取完成，共 596 个 epoch，结果保存到 data/feature\\00000995-100507.csv\n",
      "🔍 正在处理 00000999-100507.wav...\n"
     ]
    },
    {
     "name": "stderr",
     "output_type": "stream",
     "text": [
      "Processing epochs: 100%|██████████| 496/496 [01:20<00:00,  6.20it/s]\n"
     ]
    },
    {
     "name": "stdout",
     "output_type": "stream",
     "text": [
      "✅ 提取完成，共 496 个 epoch，结果保存到 data/feature\\00000999-100507.csv\n",
      "🔍 正在处理 00001000-100507.wav...\n"
     ]
    },
    {
     "name": "stderr",
     "output_type": "stream",
     "text": [
      "Processing epochs: 100%|██████████| 496/496 [01:20<00:00,  6.18it/s]\n"
     ]
    },
    {
     "name": "stdout",
     "output_type": "stream",
     "text": [
      "✅ 提取完成，共 496 个 epoch，结果保存到 data/feature\\00001000-100507.csv\n",
      "🔍 正在处理 00001006-100507.wav...\n"
     ]
    },
    {
     "name": "stderr",
     "output_type": "stream",
     "text": [
      "Processing epochs: 100%|██████████| 477/477 [01:15<00:00,  6.28it/s]\n"
     ]
    },
    {
     "name": "stdout",
     "output_type": "stream",
     "text": [
      "✅ 提取完成，共 477 个 epoch，结果保存到 data/feature\\00001006-100507.csv\n",
      "🔍 正在处理 00001008-100507.wav...\n"
     ]
    },
    {
     "name": "stderr",
     "output_type": "stream",
     "text": [
      "Processing epochs: 100%|██████████| 504/504 [01:20<00:00,  6.29it/s]\n"
     ]
    },
    {
     "name": "stdout",
     "output_type": "stream",
     "text": [
      "✅ 提取完成，共 504 个 epoch，结果保存到 data/feature\\00001008-100507.csv\n",
      "🔍 正在处理 00001010-100507.wav...\n"
     ]
    },
    {
     "name": "stderr",
     "output_type": "stream",
     "text": [
      "Processing epochs: 100%|██████████| 441/441 [01:13<00:00,  5.97it/s]\n"
     ]
    },
    {
     "name": "stdout",
     "output_type": "stream",
     "text": [
      "✅ 提取完成，共 441 个 epoch，结果保存到 data/feature\\00001010-100507.csv\n",
      "🔍 正在处理 00001014-100507.wav...\n"
     ]
    },
    {
     "name": "stderr",
     "output_type": "stream",
     "text": [
      "Processing epochs: 100%|██████████| 435/435 [01:12<00:00,  5.98it/s]\n"
     ]
    },
    {
     "name": "stdout",
     "output_type": "stream",
     "text": [
      "✅ 提取完成，共 435 个 epoch，结果保存到 data/feature\\00001014-100507.csv\n",
      "🔍 正在处理 00001016-100507.wav...\n"
     ]
    },
    {
     "name": "stderr",
     "output_type": "stream",
     "text": [
      "Processing epochs: 100%|██████████| 728/728 [02:01<00:00,  5.99it/s]\n"
     ]
    },
    {
     "name": "stdout",
     "output_type": "stream",
     "text": [
      "✅ 提取完成，共 728 个 epoch，结果保存到 data/feature\\00001016-100507.csv\n",
      "🔍 正在处理 00001018-100507.wav...\n"
     ]
    },
    {
     "name": "stderr",
     "output_type": "stream",
     "text": [
      "Processing epochs: 100%|██████████| 508/508 [01:23<00:00,  6.06it/s]\n"
     ]
    },
    {
     "name": "stdout",
     "output_type": "stream",
     "text": [
      "✅ 提取完成，共 508 个 epoch，结果保存到 data/feature\\00001018-100507.csv\n",
      "🔍 正在处理 00001020-100507.wav...\n"
     ]
    },
    {
     "name": "stderr",
     "output_type": "stream",
     "text": [
      "Processing epochs: 100%|██████████| 550/550 [01:30<00:00,  6.08it/s]\n"
     ]
    },
    {
     "name": "stdout",
     "output_type": "stream",
     "text": [
      "✅ 提取完成，共 550 个 epoch，结果保存到 data/feature\\00001020-100507.csv\n",
      "✅ 全部处理完成\n"
     ]
    }
   ],
   "source": [
    "os.makedirs(output_dir, exist_ok=True)\n",
    "wav_files = glob(os.path.join(wav_dir, '*.wav'))\n",
    "\n",
    "for wav_path in wav_files:\n",
    "    filename = os.path.basename(wav_path)\n",
    "    subject_id = os.path.splitext(filename)[0]\n",
    "    output_csv = os.path.join(output_dir, f'{subject_id}.csv')\n",
    "\n",
    "    print(f'🔍 正在处理 {filename}...')\n",
    "    try:\n",
    "        process_long_audio_to_epochs(wav_path, epoch_sec=epoch_sec, sr=sr, output_csv=output_csv)\n",
    "    except Exception as e:\n",
    "        print(f\"❌ 处理 {filename} 失败: {e}\")\n",
    "\n",
    "print('✅ 全部处理完成')"
   ]
  },
  {
   "cell_type": "code",
   "execution_count": null,
   "id": "40403a9d",
   "metadata": {},
   "outputs": [],
   "source": []
  }
 ],
 "metadata": {
  "kernelspec": {
   "display_name": "modelC",
   "language": "python",
   "name": "modelc"
  },
  "language_info": {
   "codemirror_mode": {
    "name": "ipython",
    "version": 3
   },
   "file_extension": ".py",
   "mimetype": "text/x-python",
   "name": "python",
   "nbconvert_exporter": "python",
   "pygments_lexer": "ipython3",
   "version": "3.8.19"
  }
 },
 "nbformat": 4,
 "nbformat_minor": 5
}
