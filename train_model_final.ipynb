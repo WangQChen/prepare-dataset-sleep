{
 "cells": [
  {
   "cell_type": "code",
   "execution_count": 1,
   "id": "7986d3b7",
   "metadata": {},
   "outputs": [],
   "source": [
    "from train_lstm import train_final_model, evaluate_final_model_on_each_subject"
   ]
  },
  {
   "cell_type": "code",
   "execution_count": 2,
   "id": "698980c8",
   "metadata": {},
   "outputs": [
    {
     "name": "stdout",
     "output_type": "stream",
     "text": [
      "✅ Final model saved to final_model.pt\n"
     ]
    }
   ],
   "source": [
    "train_final_model()"
   ]
  },
  {
   "cell_type": "code",
   "execution_count": 3,
   "id": "30a78822",
   "metadata": {},
   "outputs": [
    {
     "name": "stdout",
     "output_type": "stream",
     "text": [
      "[Subject 00000995-100507] Accuracy: 0.9060, F1-score: 0.3169\n",
      "[Subject 00000999-100507] Accuracy: 0.8909, F1-score: 0.3289\n",
      "[Subject 00001000-100507] Accuracy: 0.9711, F1-score: 0.5551\n",
      "[Subject 00001006-100507] Accuracy: 0.9539, F1-score: 0.3255\n",
      "[Subject 00001008-100507] Accuracy: 0.8571, F1-score: 0.3077\n",
      "[Subject 00001010-100507] Accuracy: 0.8961, F1-score: 0.5133\n",
      "[Subject 00001014-100507] Accuracy: 0.8824, F1-score: 0.3125\n",
      "[Subject 00001016-100507] Accuracy: 0.9548, F1-score: 0.3256\n",
      "[Subject 00001018-100507] Accuracy: 0.8406, F1-score: 0.4567\n",
      "[Subject 00001020-100507] Accuracy: 0.9142, F1-score: 0.3576\n",
      "\n",
      "✅ Average Accuracy: 0.9067\n",
      "✅ Average F1-score: 0.3800\n"
     ]
    }
   ],
   "source": [
    "evaluate_final_model_on_each_subject()"
   ]
  },
  {
   "cell_type": "code",
   "execution_count": null,
   "id": "59b6e017",
   "metadata": {},
   "outputs": [],
   "source": []
  }
 ],
 "metadata": {
  "kernelspec": {
   "display_name": "modelC",
   "language": "python",
   "name": "modelc"
  },
  "language_info": {
   "codemirror_mode": {
    "name": "ipython",
    "version": 3
   },
   "file_extension": ".py",
   "mimetype": "text/x-python",
   "name": "python",
   "nbconvert_exporter": "python",
   "pygments_lexer": "ipython3",
   "version": "3.8.19"
  }
 },
 "nbformat": 4,
 "nbformat_minor": 5
}
