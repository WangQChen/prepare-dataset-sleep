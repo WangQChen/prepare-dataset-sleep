{
 "cells": [
  {
   "cell_type": "code",
   "execution_count": 1,
   "id": "4e681e49",
   "metadata": {},
   "outputs": [],
   "source": [
    "from train_lstm import run_cross_subject"
   ]
  },
  {
   "cell_type": "code",
   "execution_count": 2,
   "id": "209e03f6",
   "metadata": {},
   "outputs": [
    {
     "name": "stdout",
     "output_type": "stream",
     "text": [
      "cuda\n"
     ]
    }
   ],
   "source": [
    "import torch\n",
    "\n",
    "print(torch.device(\"cuda\" if torch.cuda.is_available() else \"cpu\"))"
   ]
  },
  {
   "cell_type": "code",
   "execution_count": 3,
   "id": "06f64824",
   "metadata": {},
   "outputs": [
    {
     "name": "stdout",
     "output_type": "stream",
     "text": [
      "[Subject 00000995-100507] Accuracy: 0.9060, F1-score: 0.3169\n",
      "[Subject 00000999-100507] Accuracy: 0.8909, F1-score: 0.3289\n",
      "[Subject 00001000-100507] Accuracy: 0.9711, F1-score: 0.5551\n",
      "[Subject 00001006-100507] Accuracy: 0.9560, F1-score: 0.3576\n",
      "[Subject 00001008-100507] Accuracy: 0.8552, F1-score: 0.3073\n",
      "[Subject 00001010-100507] Accuracy: 0.8938, F1-score: 0.4927\n",
      "[Subject 00001014-100507] Accuracy: 0.8824, F1-score: 0.3125\n",
      "[Subject 00001016-100507] Accuracy: 0.9548, F1-score: 0.3256\n",
      "[Subject 00001018-100507] Accuracy: 0.8406, F1-score: 0.4567\n",
      "[Subject 00001020-100507] Accuracy: 0.9124, F1-score: 0.3181\n",
      "\n",
      "✅ Average Accuracy: 0.9063\n",
      "✅ Average F1-score: 0.3771\n"
     ]
    }
   ],
   "source": [
    "run_cross_subject()"
   ]
  },
  {
   "cell_type": "code",
   "execution_count": null,
   "id": "977395b9",
   "metadata": {},
   "outputs": [],
   "source": []
  }
 ],
 "metadata": {
  "kernelspec": {
   "display_name": "modelC",
   "language": "python",
   "name": "modelc"
  },
  "language_info": {
   "codemirror_mode": {
    "name": "ipython",
    "version": 3
   },
   "file_extension": ".py",
   "mimetype": "text/x-python",
   "name": "python",
   "nbconvert_exporter": "python",
   "pygments_lexer": "ipython3",
   "version": "3.8.19"
  }
 },
 "nbformat": 4,
 "nbformat_minor": 5
}
